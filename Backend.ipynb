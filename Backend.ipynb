{
 "cells": [
  {
   "cell_type": "code",
   "execution_count": 1,
   "id": "9934f18a-3759-4a31-918b-92758f2234cc",
   "metadata": {},
   "outputs": [],
   "source": [
    "#Import all the requirements\n",
    "from flask import Flask, jsonify, request\n",
    "import pandas as pd\n",
    "import joblib"
   ]
  },
  {
   "cell_type": "code",
   "execution_count": 2,
   "id": "e36b9951-746c-4de4-81dd-3d8a42d668b6",
   "metadata": {},
   "outputs": [],
   "source": [
    "app = Flask(__name__)"
   ]
  },
  {
   "cell_type": "code",
   "execution_count": 3,
   "id": "c5bb746e-9a9c-4eb8-8b42-4ca8034613e8",
   "metadata": {},
   "outputs": [],
   "source": [
    "df = pd.read_csv('College_data.csv')"
   ]
  },
  {
   "cell_type": "code",
   "execution_count": 4,
   "id": "0d9d930a-d606-4055-a382-848ce01199cc",
   "metadata": {},
   "outputs": [],
   "source": [
    "model = joblib.load('best_model.pkl')"
   ]
  },
  {
   "cell_type": "code",
   "execution_count": 5,
   "id": "80ef98e9-94a3-4875-aaf9-d59ab65bb6e0",
   "metadata": {},
   "outputs": [],
   "source": [
    "# @app.route('/filter', methods=['POST'])\n",
    "# def filter_colleges():\n",
    "#     \"\"\"\n",
    "#     Filter the dataset based on student input (state, fee, rating).\n",
    "#     \"\"\"\n",
    "#     data = request.get_json()\n",
    "    \n",
    "#     # Extracting the filter parameters from the request\n",
    "#     state = data.get('State')\n",
    "#     stream = data.get('Stream')\n",
    "#     ug_fee_max = data.get('UG_Fee')\n",
    "#     pg_fee_max = data.get('PG_Fee')\n",
    "#     min_overall_rating = data.get('Rating')\n",
    "#     min_academic_rating = data.get('Academic')\n",
    "#     min_accomodation_rating = data.get('Accomodation')\n",
    "#     min_faculty_rating = data.get('Faculty')\n",
    "#     min_infrastructure_rating = data.get('Infrastructure')\n",
    "#     min_placement_rating = data.get('Placement')\n",
    "#     min_social_rating = data.get('Social_Life')\n",
    "\n",
    "#     # Apply filters to the dataset\n",
    "#     filtered_data = df[\n",
    "#         (df['State'] == state) &\n",
    "#         (df['Stream'] == stream) &\n",
    "#         (df['UG_Fee'] <= ug_fee_max) &\n",
    "#         (df['PG_Fee'] <= ug_fee_max) &\n",
    "#         (df['Rating'] >= min_overall_rating) &\n",
    "#         (df['Academic'] >= min_academic_rating)\n",
    "#         (df['Accommodation'] >= min_accomodation_rating) &\n",
    "#         (df['Faculty'] >= min_faculty_rating) &\n",
    "#         (df['Infrastructure'] >= min_infrastructure_rating) &\n",
    "#         (df['Placement '] >= min_placement_rating) &\n",
    "#         (df['Social_Life'] >= min_social_rating)\n",
    "#     ]\n",
    "\n",
    "#     return jsonify(filtered_data.to_dict(orient='records'))\n",
    "\n",
    "# @app.route('/predict', methods=['POST'])\n",
    "# def predict_colleges():\n",
    "#     \"\"\"\n",
    "#     Predict the best college using the ML model based on student input.\n",
    "#     \"\"\"\n",
    "#     data = request.get_json()\n",
    "\n",
    "    \n",
    "#     input_features = [\n",
    "#         df['State'],\n",
    "#         df['Stream'],\n",
    "#         df['UG_fee'],\n",
    "#         df['PG_fee'],\n",
    "#         df['Rating'],\n",
    "#         df['Academic'],\n",
    "#         df['Accommodation'],\n",
    "#         df['Faculty'],\n",
    "#         df['Infrastructure'],\n",
    "#         df['Placement'],\n",
    "#         df['Social_Life']\n",
    "#     ]\n",
    "\n",
    "#     # Predict using the machine learning model\n",
    "#     filtered_data['Predicted Score'] = model.predict([filtered_data])\n",
    "#     ranked_colleges = filtered_data.sort_values(by='Predicted Score', ascending=False)\n",
    "    \n",
    "#     return jsonify({'ranked_colleges': ranked_colleges.tolist()})\n",
    "\n",
    "# #if __name__ == '__main__':\n",
    "#     #app.run(debug=True)"
   ]
  },
  {
   "cell_type": "code",
   "execution_count": null,
   "id": "63c7dd99-ab3d-4cf6-97d5-2f5c4127bcb2",
   "metadata": {},
   "outputs": [
    {
     "name": "stdout",
     "output_type": "stream",
     "text": [
      " * Serving Flask app '__main__'\n",
      " * Debug mode: on\n"
     ]
    },
    {
     "name": "stderr",
     "output_type": "stream",
     "text": [
      "WARNING: This is a development server. Do not use it in a production deployment. Use a production WSGI server instead.\n",
      " * Running on http://127.0.0.1:5000\n",
      "Press CTRL+C to quit\n",
      "127.0.0.1 - - [23/Oct/2024 09:57:03] \"GET / HTTP/1.1\" 200 -\n"
     ]
    }
   ],
   "source": [
    "# Import all the requirements\n",
    "from flask import Flask, jsonify, request\n",
    "import pandas as pd\n",
    "import joblib\n",
    "\n",
    "# Initialize the app and load data\n",
    "app = Flask(__name__)\n",
    "df = pd.read_csv('College_data.csv')\n",
    "model = joblib.load('best_model.pkl')\n",
    "@app.route('/',methods=['GET'])\n",
    "def home():\n",
    "    return jsonify({\"message\": \"Welcome to the College Recommendation API!\"})\n",
    "@app.route('/filter', methods=['POST'])\n",
    "def filter_colleges():\n",
    "    \"\"\"\n",
    "    Filter the dataset based on student input (state, fee, rating).\n",
    "    \"\"\"\n",
    "    data = request.get_json()\n",
    "    \n",
    "    # Extracting the filter parameters from the request\n",
    "    state = data.get('State')\n",
    "    stream = data.get('Stream')\n",
    "    ug_fee_max = data.get('UG_Fee')\n",
    "    pg_fee_max = data.get('PG_Fee')\n",
    "    min_overall_rating = data.get('Rating')\n",
    "    min_academic_rating = data.get('Academic')\n",
    "    min_accomodation_rating = data.get('Accomodation')\n",
    "    min_faculty_rating = data.get('Faculty')\n",
    "    min_infrastructure_rating = data.get('Infrastructure')\n",
    "    min_placement_rating = data.get('Placement')\n",
    "    min_social_rating = data.get('Social_Life')\n",
    "\n",
    "    # Apply filters to the dataset\n",
    "    filtered_data = df[\n",
    "        (df['State'] == state) &\n",
    "        (df['Stream'] == stream) &\n",
    "        (df['UG_Fee'] <= ug_fee_max) &\n",
    "        (df['PG_Fee'] <= pg_fee_max) &\n",
    "        (df['Rating'] >= min_overall_rating) &\n",
    "        (df['Academic'] >= min_academic_rating) &\n",
    "        (df['Accommodation'] >= min_accomodation_rating) &\n",
    "        (df['Faculty'] >= min_faculty_rating) &\n",
    "        (df['Infrastructure'] >= min_infrastructure_rating) &\n",
    "        (df['Placement'] >= min_placement_rating) &\n",
    "        (df['Social_Life'] >= min_social_rating)\n",
    "    ]\n",
    "\n",
    "    return jsonify(filtered_data.to_dict(orient='records'))\n",
    "\n",
    "@app.route('/predict', methods=['POST'])\n",
    "def predict_colleges():\n",
    "    \"\"\"\n",
    "    Predict the best college using the ML model based on student input.\n",
    "    \"\"\"\n",
    "    data = request.get_json()\n",
    "\n",
    "    input_features = [\n",
    "        data.get('State'),\n",
    "        data.get('Stream'),\n",
    "        data.get('UG_Fee'),\n",
    "        data.get('PG_Fee'),\n",
    "        data.get('Rating'),\n",
    "        data.get('Academic'),\n",
    "        data.get('Accommodation'),\n",
    "        data.get('Faculty'),\n",
    "        data.get('Infrastructure'),\n",
    "        data.get('Placement'),\n",
    "        data.get('Social_Life')\n",
    "    ]\n",
    "\n",
    "    # Predict using the machine learning model\n",
    "    predicted_score = model.predict([input_features])[0]\n",
    "    \n",
    "    return jsonify({'predicted_score': predicted_score})\n",
    "\n",
    "if __name__ == '__main__':\n",
    "    app.run(debug=True, use_reloader=False)\n",
    "\n"
   ]
  },
  {
   "cell_type": "code",
   "execution_count": null,
   "id": "d4f80abe-0165-4e34-8b03-57b283678543",
   "metadata": {},
   "outputs": [],
   "source": [
    "\n",
    "\n"
   ]
  },
  {
   "cell_type": "code",
   "execution_count": null,
   "id": "f50a2379-36cb-40da-8592-9383d16dd301",
   "metadata": {},
   "outputs": [],
   "source": []
  }
 ],
 "metadata": {
  "kernelspec": {
   "display_name": "Python 3 (ipykernel)",
   "language": "python",
   "name": "python3"
  },
  "language_info": {
   "codemirror_mode": {
    "name": "ipython",
    "version": 3
   },
   "file_extension": ".py",
   "mimetype": "text/x-python",
   "name": "python",
   "nbconvert_exporter": "python",
   "pygments_lexer": "ipython3",
   "version": "3.12.2"
  }
 },
 "nbformat": 4,
 "nbformat_minor": 5
}
